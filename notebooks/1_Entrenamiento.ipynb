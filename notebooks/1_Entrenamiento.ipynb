{
 "cells": [
  {
   "cell_type": "markdown",
   "metadata": {},
   "source": [
    "## Dependencias"
   ]
  },
  {
   "cell_type": "code",
   "execution_count": 1,
   "metadata": {},
   "outputs": [],
   "source": [
    "#!{sys.executable} -m pip install torchio\n",
    "#!{sys.executable} -m pip install scikit-image\n",
    "#!{sys.executable} -m pip install kornia\n",
    "#!{sys.executable} -m pip install h5py"
   ]
  },
  {
   "cell_type": "code",
   "execution_count": 2,
   "metadata": {},
   "outputs": [],
   "source": [
    "import torch\n",
    "\n",
    "DIM_SIZE_REDUCTION = (1,1,1)\n",
    "MODELS_FOLDER = \"../models/\"\n",
    "TARGET_MODE = 'target'\n",
    "gpu = torch.cuda.is_available()\n",
    "MODEL_NAME = \"t\"\n",
    "\n",
    "%matplotlib inline\n",
    "%config InlineBackend.figure_format = 'retina'"
   ]
  },
  {
   "cell_type": "code",
   "execution_count": null,
   "metadata": {},
   "outputs": [
    {
     "name": "stdout",
     "output_type": "stream",
     "text": [
      "If you use TorchIO for your research, please cite the following paper:\n",
      "Pérez-García et al., TorchIO: a Python library for efficient loading,\n",
      "preprocessing, augmentation and patch-based sampling of medical images\n",
      "in deep learning. Credits instructions: https://torchio.readthedocs.io/#credits\n",
      "\n",
      "CUDA disponible, usando GPU ...\n",
      "Epoch: 1 Tiempo:13s \tTraining Loss: 0.790863 \tValidation Loss: 0.797513\n",
      "Validation loss decreased. Train loss: 0.790863 Validation Loss: (inf --> 0.797513).  Saving model ...\n",
      "Epoch: 2 Tiempo:12s \tTraining Loss: 0.789674 \tValidation Loss: 0.797513\n",
      "Validation loss decreased. Train loss: 0.789674 Validation Loss: (0.797513 --> 0.797513).  Saving model ...\n"
     ]
    }
   ],
   "source": [
    "import sys\n",
    "sys.path.insert(0, '../')\n",
    "from dataset import PATHS, get_train_valid_dataloaders\n",
    "from train import train\n",
    "from models import initialize_model\n",
    "\n",
    "n_epochs = 300\n",
    "train_path = '../data/cells/0.25z 0.125x 0.125y/train/'\n",
    "valid_path = '../data/cells/0.25z 0.125x 0.125y/valid/'\n",
    "#train_path = '../data/cells/0.5z 0.25x 0.25y/train/'\n",
    "#valid_path = '../data/cells/0.5z 0.25x 0.25y/valid/'\n",
    "arch = \"MiniUNet3D\"\n",
    "loss_function = \"dice\"\n",
    "AMP = False\n",
    "\n",
    "train_loader, valid_loader = get_train_valid_dataloaders(dim_size_reduction = DIM_SIZE_REDUCTION, target_mode = TARGET_MODE, train_path = train_path, valid_path = valid_path)\n",
    "model = initialize_model(model_name=MODEL_NAME, gpu=gpu, arch = arch, models_folder = MODELS_FOLDER)\n",
    "train(model, train_loader, valid_loader, model_name=MODEL_NAME, n_epochs=n_epochs, loss_function=loss_function, AMP=AMP, gpu=gpu, models_folder = MODELS_FOLDER)"
   ]
  },
  {
   "cell_type": "code",
   "execution_count": null,
   "metadata": {},
   "outputs": [],
   "source": []
  }
 ],
 "metadata": {
  "kernelspec": {
   "display_name": "Python 3",
   "language": "python",
   "name": "python3"
  },
  "language_info": {
   "codemirror_mode": {
    "name": "ipython",
    "version": 3
   },
   "file_extension": ".py",
   "mimetype": "text/x-python",
   "name": "python",
   "nbconvert_exporter": "python",
   "pygments_lexer": "ipython3",
   "version": "3.6.8"
  }
 },
 "nbformat": 4,
 "nbformat_minor": 4
}
