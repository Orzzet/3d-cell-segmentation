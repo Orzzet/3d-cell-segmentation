{
 "metadata": {
  "language_info": {
   "codemirror_mode": {
    "name": "ipython",
    "version": 3
   },
   "file_extension": ".py",
   "mimetype": "text/x-python",
   "name": "python",
   "nbconvert_exporter": "python",
   "pygments_lexer": "ipython3",
   "version": "3.7.5-final"
  },
  "orig_nbformat": 2,
  "kernelspec": {
   "name": "Python 3.7.5 64-bit",
   "display_name": "Python 3.7.5 64-bit",
   "metadata": {
    "interpreter": {
     "hash": "0bf254f4bade2f1c26977f6424deaa54afd031ced29e33743fcf1b047c1a16ff"
    }
   }
  }
 },
 "nbformat": 4,
 "nbformat_minor": 2,
 "cells": [
  {
   "cell_type": "code",
   "execution_count": 20,
   "metadata": {},
   "outputs": [],
   "source": [
    "from PIL import Image\n",
    "import tifffile as tf\n",
    "import os\n",
    "import h5py\n",
    "import time\n",
    "import numpy as np\n",
    "sys.path.insert(0, '../')\n"
   ]
  },
  {
   "cell_type": "code",
   "execution_count": 28,
   "metadata": {},
   "outputs": [
    {
     "output_type": "stream",
     "name": "stdout",
     "text": [
      "8s\n"
     ]
    }
   ],
   "source": [
    "HDF5_DATASET = \"../data/cells/0.25z 0.125x 0.125y\"\n",
    "new_dataset_folder = HDF5_DATASET + \"_tiff/\"\n",
    "all_files = list(os.walk(HDF5_DATASET))\n",
    "start = time.time()\n",
    "if not os.path.exists(new_dataset_folder):\n",
    "        os.makedirs(new_dataset_folder)\n",
    "for path, folders, files in all_files:\n",
    "    new_path = \"{}{}/\".format(new_dataset_folder, path.split(\"\\\\\")[-1])\n",
    "    if not os.path.exists(new_path) and len(files) > 0:\n",
    "        os.makedirs(new_path)\n",
    "    for filename in files:\n",
    "        with h5py.File(path + \"/\" + filename, 'r') as f:\n",
    "            filename_base = os.path.splitext(filename)[0]\n",
    "            correct_cell_count, resized_cell_count = int(f.attrs['correct_cell_count'][0]), int(f.attrs['cell_count'][0])\n",
    "            image = np.array(f.get('image'), dtype='f4')\n",
    "            image.shape = 1, image.shape[0], 1, image.shape[1], image.shape[2], 1\n",
    "            tf.imwrite(\"{}{}.tif\".format(new_path,filename_base), image, imagej=True, compression=\"zlib\", metadata={'correct_cell_count': correct_cell_count, 'resized_cell_count': resized_cell_count})\n",
    "\n",
    "            multi_instance_target = np.array(f.get('multi_instance_target'), 'i2')\n",
    "            multi_instance_target = np.moveaxis(multi_instance_target, 0, -1)\n",
    "            tf.imwrite(\"{}{}_multi_instance_target.tif\".format(new_path,filename_base), multi_instance_target, imagej=True, photometric='minisblack', compression=\"zlib\", metadata={'correct_cell_count': correct_cell_count, 'resized_cell_count': resized_cell_count, 'axis': 'XYZ'})\n",
    "            \n",
    "            target = np.array(f.get('target'), 'i2')\n",
    "            target = np.moveaxis(target, 0, 1)\n",
    "            tf.imwrite(\"{}{}_target.tif\".format(new_path,filename_base), target, photometric='minisblack', compression=\"zlib\", metadata={'correct_cell_count': correct_cell_count, 'resized_cell_count': resized_cell_count})\n",
    "\n",
    "            tf.imwrite(\"{}{}_boundaries.tif\".format(new_path,filename_base), boundaries, photometric='minisblack', compression=\"zlib\", metadata={'correct_cell_count': correct_cell_count, 'resized_cell_count': resized_cell_count, 'axes': 'ZXY'})\n",
    "print(\"{:.0f}s\".format(time.time() - start))"
   ]
  },
  {
   "cell_type": "code",
   "execution_count": null,
   "metadata": {},
   "outputs": [],
   "source": []
  }
 ]
}