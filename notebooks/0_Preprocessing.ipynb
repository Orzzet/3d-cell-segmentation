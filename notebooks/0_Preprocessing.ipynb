{
 "cells": [
  {
   "cell_type": "code",
   "execution_count": 11,
   "metadata": {},
   "outputs": [
    {
     "output_type": "stream",
     "name": "stdout",
     "text": [
      "[]\n"
     ]
    }
   ],
   "source": [
    "import sys\n",
    "sys.path.insert(0, '../')\n",
    "from preprocessing import generate_preprocessed_files\n",
    "\n",
    "ORIGINAL_DATASET_PATH = 'data/cells/raw/'\n",
    "NEW_DATASET_PATH = 'data/cells/lq_nobatch2/'\n",
    "dim_reduction = (0.5,0.5,0.5)\n",
    "dataset_files = list(os.walk(ORIGINAL_DATASET_PATH))\n",
    "if dataset_files:\n",
    "    filenames = list(filter(lambda name: name[0] != 'p', dataset_files[0][2]))\n",
    "else:\n",
    "    filenames = []\n",
    "compression_level = 4\n",
    "\n",
    "generate_preprocessed_files(filenames, compression_level, dims_reduction=dim_reduction, batch=False, original_dataset_path=ORIGINAL_DATASET_PATH, new_dataset_path=NEW_DATASET_PATH)"
   ]
  },
  {
   "cell_type": "code",
   "execution_count": null,
   "metadata": {},
   "outputs": [],
   "source": []
  }
 ],
 "metadata": {
  "kernelspec": {
   "name": "python3",
   "display_name": "Python 3.7.5 64-bit",
   "metadata": {
    "interpreter": {
     "hash": "0bf254f4bade2f1c26977f6424deaa54afd031ced29e33743fcf1b047c1a16ff"
    }
   }
  },
  "language_info": {
   "codemirror_mode": {
    "name": "ipython",
    "version": 3
   },
   "file_extension": ".py",
   "mimetype": "text/x-python",
   "name": "python",
   "nbconvert_exporter": "python",
   "pygments_lexer": "ipython3",
   "version": "3.7.5-final"
  }
 },
 "nbformat": 4,
 "nbformat_minor": 4
}