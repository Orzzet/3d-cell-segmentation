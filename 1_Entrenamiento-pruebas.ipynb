{
 "cells": [
  {
   "cell_type": "markdown",
   "metadata": {},
   "source": [
    "## Dependencias"
   ]
  },
  {
   "cell_type": "code",
   "execution_count": 3,
   "metadata": {},
   "outputs": [
    {
     "name": "stdout",
     "output_type": "stream",
     "text": [
      "CUDA is available!  Training on GPU ...\n"
     ]
    }
   ],
   "source": [
    "DIM_SIZE_REDUCTION = (1,1,1)\n",
    "TARGET_MODE = 'target'\n",
    "train_on_gpu = torch.cuda.is_available()\n",
    "\n",
    "%matplotlib inline\n",
    "%config InlineBackend.figure_format = 'retina'"
   ]
  },
  {
   "cell_type": "code",
   "execution_count": null,
   "metadata": {},
   "outputs": [],
   "source": [
    "import dataset import get_train_valid_dataloaders\n",
    "from dataset import PATHS\n",
    "from train import train\n",
    "from models import initialize_model\n",
    "\n",
    "train_loader, valid_loader = get_train_valid_dataloaders(dim_size_reduction = DIM_SIZE_REDUCTION, target_mode = TARGET_MODE, train_path = PATHS[\"LQ_TRAIN\"], valid_path = PATHS[\"LQ_VALID\"])\n",
    "model = initialize_model(train_on_gpu=True, arch = \"UNet3D\")\n",
    "train(model, train_loader, valid_loader, model_name=MODEL_NAME, n_epochs=100, loss_function=\"dice\", AMP=True, train_on_gpu=train_on_gpu)"
   ]
  }
 ],
 "metadata": {
  "kernelspec": {
   "name": "python3",
   "display_name": "Python 3.7.5 64-bit",
   "metadata": {
    "interpreter": {
     "hash": "0bf254f4bade2f1c26977f6424deaa54afd031ced29e33743fcf1b047c1a16ff"
    }
   }
  },
  "language_info": {
   "codemirror_mode": {
    "name": "ipython",
    "version": 3
   },
   "file_extension": ".py",
   "mimetype": "text/x-python",
   "name": "python",
   "nbconvert_exporter": "python",
   "pygments_lexer": "ipython3",
   "version": "3.7.5-final"
  }
 },
 "nbformat": 4,
 "nbformat_minor": 4
}