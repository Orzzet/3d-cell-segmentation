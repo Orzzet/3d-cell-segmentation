{
 "cells": [
  {
   "cell_type": "markdown",
   "metadata": {},
   "source": [
    "## Dependencias"
   ]
  },
  {
   "cell_type": "code",
   "execution_count": 2,
   "metadata": {},
   "outputs": [],
   "source": [
    "import torch\n",
    "\n",
    "DIM_SIZE_REDUCTION = (1,1,1)\n",
    "TARGET_MODE = 'target'\n",
    "train_on_gpu = torch.cuda.is_available()\n",
    "MODEL_NAME = \"test\"\n",
    "\n",
    "%matplotlib inline\n",
    "%config InlineBackend.figure_format = 'retina'"
   ]
  },
  {
   "cell_type": "code",
   "execution_count": null,
   "metadata": {},
   "outputs": [
    {
     "name": "stdout",
     "output_type": "stream",
     "text": [
      "CUDA disponible, entrenando en GPU ...\n",
      "Selected optimization level O1:  Insert automatic casts around Pytorch functions and Tensor methods.\n",
      "\n",
      "Defaults for this optimization level are:\n",
      "enabled                : True\n",
      "opt_level              : O1\n",
      "cast_model_type        : None\n",
      "patch_torch_functions  : True\n",
      "keep_batchnorm_fp32    : None\n",
      "master_weights         : None\n",
      "loss_scale             : dynamic\n",
      "Processing user overrides (additional kwargs that are not None)...\n",
      "After processing overrides, optimization options are:\n",
      "enabled                : True\n",
      "opt_level              : O1\n",
      "cast_model_type        : None\n",
      "patch_torch_functions  : True\n",
      "keep_batchnorm_fp32    : None\n",
      "master_weights         : None\n",
      "loss_scale             : dynamic\n",
      "Warning:  multi_tensor_applier fused unscale kernel is unavailable, possibly because apex was installed without --cuda_ext --cpp_ext. Using Python fallback.  Original ImportError was: ModuleNotFoundError(\"No module named 'amp_C'\",)\n",
      "Epoch: 1 Tiempo:38s \tTraining Loss: 0.746512 \tValidation Loss: 0.748089\n",
      "Validation loss decreased. Train loss: 0.746512 Validation Loss: (inf --> 0.748089).  Saving model ...\n",
      "Epoch: 2 Tiempo:37s \tTraining Loss: 0.708311 \tValidation Loss: 0.721434\n",
      "Validation loss decreased. Train loss: 0.708311 Validation Loss: (0.748089 --> 0.721434).  Saving model ...\n",
      "Epoch: 3 Tiempo:37s \tTraining Loss: 0.696498 \tValidation Loss: 0.712059\n",
      "Validation loss decreased. Train loss: 0.696498 Validation Loss: (0.721434 --> 0.712059).  Saving model ...\n"
     ]
    }
   ],
   "source": [
    "from dataset import PATHS, get_train_valid_dataloaders\n",
    "from train import train\n",
    "from models import initialize_model\n",
    "\n",
    "train_loader, valid_loader = get_train_valid_dataloaders(dim_size_reduction = DIM_SIZE_REDUCTION, target_mode = TARGET_MODE, train_path = PATHS[\"LQ_TRAIN\"], valid_path = PATHS[\"LQ_VALID\"])\n",
    "model = initialize_model(model_name=MODEL_NAME, train_on_gpu=True, arch = \"UNet3D\")\n",
    "train(model, train_loader, valid_loader, model_name=MODEL_NAME, n_epochs=100, loss_function=\"dice\", AMP=True, train_on_gpu=train_on_gpu)"
   ]
  },
  {
   "cell_type": "code",
   "execution_count": null,
   "metadata": {},
   "outputs": [],
   "source": []
  }
 ],
 "metadata": {
  "kernelspec": {
   "display_name": "Python 3",
   "language": "python",
   "name": "python3"
  },
  "language_info": {
   "codemirror_mode": {
    "name": "ipython",
    "version": 3
   },
   "file_extension": ".py",
   "mimetype": "text/x-python",
   "name": "python",
   "nbconvert_exporter": "python",
   "pygments_lexer": "ipython3",
   "version": "3.6.8"
  }
 },
 "nbformat": 4,
 "nbformat_minor": 4
}
